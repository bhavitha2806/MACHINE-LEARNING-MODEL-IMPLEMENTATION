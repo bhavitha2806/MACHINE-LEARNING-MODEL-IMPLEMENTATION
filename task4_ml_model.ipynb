# Task 4: Machine Learning Model Implementation - Spam Classifier

# Step 1: Import necessary libraries
import pandas as pd
from sklearn.feature_extraction.text import CountVectorizer
from sklearn.model_selection import train_test_split
from sklearn.naive_bayes import MultinomialNB
from sklearn.metrics import accuracy_score, confusion_matrix, classification_report

# Step 2: Load sample dataset
# You can replace this with your own CSV file
data = {
    'text': [
        'Win money now!', 'Hello, how are you?', 'Limited offer just for you',
        'Are we still meeting tomorrow?', 'Congratulations, you won a prize!',
        'Let’s catch up over lunch', 'Exclusive deal for you today only',
        'Can we reschedule our call?', 'Free entry in a contest', 'Hi there!'
    ],
    'label': [1, 0, 1, 0, 1, 0, 1, 0, 1, 0]  # 1 = Spam, 0 = Not Spam
}
df = pd.DataFrame(data)

# Step 3: Preprocessing
vectorizer = CountVectorizer()
X = vectorizer.fit_transform(df['text'])
y = df['label']

# Step 4: Split the data
X_train, X_test, y_train, y_test = train_test_split(X, y, test_size=0.3, random_state=42)

# Step 5: Train the model
model = MultinomialNB()
model.fit(X_train, y_train)

# Step 6: Predictions
y_pred = model.predict(X_test)

# Step 7: Evaluation
print("Accuracy:", accuracy_score(y_test, y_pred))
print("Confusion Matrix:\n", confusion_matrix(y_test, y_pred))
print("Classification Report:\n", classification_report(y_test, y_pred))

# Step 8: Predict new input
new_input = ["Get free coupons now!", "Hey, can we talk later?"]
new_vect = vectorizer.transform(new_input)
new_pred = model.predict(new_vect)

for i, msg in enumerate(new_input):
    print(f"\nMessage: {msg}")
    print("Prediction:", "Spam" if new_pred[i] == 1 else "Not Spam")
